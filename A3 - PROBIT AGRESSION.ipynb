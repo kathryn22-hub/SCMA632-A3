{
 "cells": [
  {
   "cell_type": "code",
   "execution_count": 1,
   "id": "4de3a71d",
   "metadata": {},
   "outputs": [],
   "source": [
    "import os\n",
    "import pandas as pd\n",
    "import numpy as np\n",
    "import statsmodels.api as sm\n",
    "import statsmodels.formula.api as smf\n",
    "import seaborn as sns\n",
    "import matplotlib.pyplot as plt\n",
    "from statsmodels.miscmodels.ordinal_model import OrderedModel\n"
   ]
  },
  {
   "cell_type": "code",
   "execution_count": 2,
   "id": "314855a4",
   "metadata": {},
   "outputs": [
    {
     "name": "stdout",
     "output_type": "stream",
     "text": [
      "D:\\Assignments_SCMA632\\Data\n"
     ]
    }
   ],
   "source": [
    "os.chdir('D:\\\\Assignments_SCMA632\\\\Data')\n",
    "print(os.getcwd())\n"
   ]
  },
  {
   "cell_type": "code",
   "execution_count": 4,
   "id": "e2192e21",
   "metadata": {},
   "outputs": [],
   "source": [
    "# Load the dataset\n",
    "df = pd.read_csv('NSSO68.csv',low_memory=False)"
   ]
  },
  {
   "cell_type": "code",
   "execution_count": 5,
   "id": "cca1ea5a",
   "metadata": {},
   "outputs": [
    {
     "name": "stdout",
     "output_type": "stream",
     "text": [
      "       eggsno_q  fishprawn_q  goatmeat_q  beef_q  chicken_q  pork_q\n",
      "36170       0.0          0.0         0.0     0.0   0.000000     0.0\n",
      "36171       0.0          0.0         0.0     0.0   0.000000     0.0\n",
      "36172       0.0          0.0         0.0     0.0   0.000000     0.0\n",
      "36173       0.0          0.0         0.0     0.0   0.000000     0.0\n",
      "36174       0.0          0.0         0.0     0.0   0.000000     0.0\n",
      "...         ...          ...         ...     ...        ...     ...\n",
      "99553       0.0          0.0         0.0     0.0   0.000000     0.0\n",
      "99554       0.0          0.0         0.0     0.0   0.000000     0.0\n",
      "99555       0.0          0.0         0.0     0.0   0.666667     0.0\n",
      "99556       0.0          0.0         0.0     0.0   0.000000     0.0\n",
      "99557       0.0          0.0         0.0     0.0   0.000000     0.0\n",
      "\n",
      "[3118 rows x 6 columns]\n"
     ]
    }
   ],
   "source": [
    "# Filter the data for 'Pun' state and select relevant columns\n",
    "subset_df = df[df['state_1'] == 'Pun'][['eggsno_q', 'fishprawn_q', 'goatmeat_q', 'beef_q', 'chicken_q', 'pork_q']]\n",
    "print(subset_df)"
   ]
  },
  {
   "cell_type": "code",
   "execution_count": 6,
   "id": "d605964a",
   "metadata": {},
   "outputs": [
    {
     "name": "stdout",
     "output_type": "stream",
     "text": [
      "       eggsno_q  fishprawn_q  goatmeat_q  beef_q  chicken_q  pork_q  nv\n",
      "36170       0.0          0.0         0.0     0.0        0.0     0.0   0\n",
      "36171       0.0          0.0         0.0     0.0        0.0     0.0   0\n",
      "36172       0.0          0.0         0.0     0.0        0.0     0.0   0\n",
      "36173       0.0          0.0         0.0     0.0        0.0     0.0   0\n",
      "36174       0.0          0.0         0.0     0.0        0.0     0.0   0\n",
      "count    3118.000000\n",
      "mean        0.238294\n",
      "std         0.426108\n",
      "min         0.000000\n",
      "25%         0.000000\n",
      "50%         0.000000\n",
      "75%         0.000000\n",
      "max         1.000000\n",
      "Name: nv, dtype: float64\n"
     ]
    }
   ],
   "source": [
    "# Create Target Variable\n",
    "subset_df['nv'] = np.where(subset_df[['eggsno_q', 'fishprawn_q', 'goatmeat_q', 'beef_q', 'chicken_q', 'pork_q']].sum(axis=1) > 0, 1, 0)\n",
    "print(subset_df.head())\n",
    "print(subset_df['nv'].describe())"
   ]
  },
  {
   "cell_type": "code",
   "execution_count": 7,
   "id": "a2e2bd8f",
   "metadata": {},
   "outputs": [
    {
     "name": "stdout",
     "output_type": "stream",
     "text": [
      "Warning: Maximum number of iterations has been exceeded.\n",
      "         Current function value: 0.003330\n",
      "         Iterations: 35\n",
      "                          Probit Regression Results                           \n",
      "==============================================================================\n",
      "Dep. Variable:                     nv   No. Observations:                 3118\n",
      "Model:                         Probit   Df Residuals:                     3111\n",
      "Method:                           MLE   Df Model:                            6\n",
      "Date:                Mon, 01 Jul 2024   Pseudo R-squ.:                  0.9939\n",
      "Time:                        21:16:51   Log-Likelihood:                -10.382\n",
      "converged:                      False   LL-Null:                       -1712.1\n",
      "Covariance Type:            nonrobust   LLR p-value:                     0.000\n",
      "===============================================================================\n",
      "                  coef    std err          z      P>|z|      [0.025      0.975]\n",
      "-------------------------------------------------------------------------------\n",
      "Intercept      -3.1172      0.205    -15.184      0.000      -3.520      -2.715\n",
      "eggsno_q     1.156e+05   1.66e+04      6.950      0.000     8.3e+04    1.48e+05\n",
      "fishprawn_q    92.9697   8.92e+04      0.001      0.999   -1.75e+05    1.75e+05\n",
      "goatmeat_q    161.5599   6678.864      0.024      0.981   -1.29e+04    1.33e+04\n",
      "beef_q         57.5562   1.18e+14    4.9e-13      1.000    -2.3e+14     2.3e+14\n",
      "chicken_q     133.0499   9544.169      0.014      0.989   -1.86e+04    1.88e+04\n",
      "pork_q         25.0032   1875.832      0.013      0.989   -3651.561    3701.567\n",
      "===============================================================================\n",
      "\n",
      "Possibly complete quasi-separation: A fraction 0.23 of observations can be\n",
      "perfectly predicted. This might indicate that there is complete\n",
      "quasi-separation. In this case some parameters will not be identified.\n"
     ]
    },
    {
     "name": "stderr",
     "output_type": "stream",
     "text": [
      "C:\\Users\\rache\\anaconda3\\Lib\\site-packages\\statsmodels\\base\\model.py:607: ConvergenceWarning: Maximum Likelihood optimization failed to converge. Check mle_retvals\n",
      "  warnings.warn(\"Maximum Likelihood optimization failed to \"\n"
     ]
    }
   ],
   "source": [
    "# Fit the probit regression model\n",
    "probit_model = smf.probit('nv ~ eggsno_q + fishprawn_q + goatmeat_q + beef_q + chicken_q + pork_q', data=subset_df).fit()\n",
    "print(probit_model.summary())"
   ]
  },
  {
   "cell_type": "code",
   "execution_count": 8,
   "id": "b1219a10",
   "metadata": {},
   "outputs": [
    {
     "name": "stdout",
     "output_type": "stream",
     "text": [
      "       Probit Marginal Effects       \n",
      "=====================================\n",
      "Dep. Variable:                     nv\n",
      "Method:                          dydx\n",
      "At:                           overall\n",
      "===============================================================================\n",
      "                 dy/dx    std err          z      P>|z|      [0.025      0.975]\n",
      "-------------------------------------------------------------------------------\n",
      "eggsno_q      359.4677    160.288      2.243      0.025      45.308     673.627\n",
      "fishprawn_q     0.2891    277.370      0.001      0.999    -543.346     543.924\n",
      "goatmeat_q      0.5023     20.768      0.024      0.981     -40.203      41.207\n",
      "beef_q          0.1790   3.66e+11    4.9e-13      1.000   -7.16e+11    7.16e+11\n",
      "chicken_q       0.4137     29.677      0.014      0.989     -57.752      58.579\n",
      "pork_q          0.0777      5.833      0.013      0.989     -11.354      11.510\n",
      "===============================================================================\n"
     ]
    }
   ],
   "source": [
    "# Calculate marginal effects\n",
    "marginal_effects = probit_model.get_margeff()\n",
    "print(marginal_effects.summary())"
   ]
  },
  {
   "cell_type": "code",
   "execution_count": null,
   "id": "4437b834",
   "metadata": {},
   "outputs": [],
   "source": []
  }
 ],
 "metadata": {
  "kernelspec": {
   "display_name": "Python 3 (ipykernel)",
   "language": "python",
   "name": "python3"
  },
  "language_info": {
   "codemirror_mode": {
    "name": "ipython",
    "version": 3
   },
   "file_extension": ".py",
   "mimetype": "text/x-python",
   "name": "python",
   "nbconvert_exporter": "python",
   "pygments_lexer": "ipython3",
   "version": "3.11.5"
  }
 },
 "nbformat": 4,
 "nbformat_minor": 5
}
